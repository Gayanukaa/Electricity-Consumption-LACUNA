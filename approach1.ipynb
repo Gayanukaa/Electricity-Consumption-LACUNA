{
 "cells": [
  {
   "cell_type": "code",
   "execution_count": 26,
   "metadata": {},
   "outputs": [],
   "source": [
    "# Import necessary libraries\n",
    "import pandas as pd\n",
    "import numpy as np\n",
    "import os\n",
    "import glob\n",
    "import matplotlib.pyplot as plt\n",
    "from sklearn.cluster import KMeans\n",
    "from sklearn.metrics import silhouette_score\n",
    "from sklearn.preprocessing import StandardScaler"
   ]
  },
  {
   "cell_type": "code",
   "execution_count": 27,
   "metadata": {},
   "outputs": [],
   "source": [
    "# Function to load multiple CSV files into a single DataFrame\n",
    "def load_multiple_csv(folder_path):\n",
    "    all_files = glob.glob(os.path.join(folder_path, \"*.csv\"))\n",
    "    df_list = [pd.read_csv(file) for file in all_files]\n",
    "    combined_df = pd.concat(df_list, ignore_index=True)\n",
    "    return combined_df"
   ]
  },
  {
   "cell_type": "code",
   "execution_count": 30,
   "metadata": {},
   "outputs": [
    {
     "name": "stderr",
     "output_type": "stream",
     "text": [
      "C:\\Users\\Gayanuka Amarasuriya\\AppData\\Local\\Temp\\ipykernel_25188\\3573793461.py:4: DtypeWarning: Columns (4) have mixed types. Specify dtype option on import or set low_memory=False.\n",
      "  df_list = [pd.read_csv(file) for file in all_files]\n",
      "C:\\Users\\Gayanuka Amarasuriya\\AppData\\Local\\Temp\\ipykernel_25188\\3573793461.py:4: DtypeWarning: Columns (9) have mixed types. Specify dtype option on import or set low_memory=False.\n",
      "  df_list = [pd.read_csv(file) for file in all_files]\n"
     ]
    }
   ],
   "source": [
    "# Define folder paths for Smart Meter and Non-Smart Meter data\n",
    "smart_meter_folder = r\"data\\EC2\\smart_meter_data\"\n",
    "non_smart_meter_file = r\"data\\EC2\\non_smart_meter_data.csv\"\n",
    "\n",
    "# Load Smart Meter data\n",
    "smart_meter_data = load_multiple_csv(smart_meter_folder)\n",
    "\n",
    "# Load Non-Smart Meter data\n",
    "non_smart_meter_data = pd.read_csv(non_smart_meter_file)"
   ]
  },
  {
   "cell_type": "code",
   "execution_count": 31,
   "metadata": {},
   "outputs": [
    {
     "name": "stderr",
     "output_type": "stream",
     "text": [
      "C:\\Users\\Gayanuka Amarasuriya\\AppData\\Local\\Temp\\ipykernel_25188\\279011407.py:8: DtypeWarning: Columns (9) have mixed types. Specify dtype option on import or set low_memory=False.\n",
      "  room_roster = pd.read_csv('data\\EC1\\w1_room_roster.csv')\n"
     ]
    }
   ],
   "source": [
    "# Load EC1 supporting datasets\n",
    "demographics = pd.read_csv('data\\EC1\\w1_demographics.csv')\n",
    "appliances = pd.read_csv('data\\EC1\\w1_appliances.csv')\n",
    "electricity_gen = pd.read_csv('data\\EC1\\w1_electricity_generation_water_heating_cooking.csv')\n",
    "fan_roster = pd.read_csv('data\\EC1\\w1_fan_roster.csv')\n",
    "household_info = pd.read_csv('data\\EC1\\w1_household_information_and_history.csv')\n",
    "light_roster = pd.read_csv('data\\EC1\\w1_light_roster.csv')\n",
    "room_roster = pd.read_csv('data\\EC1\\w1_room_roster.csv')"
   ]
  },
  {
   "cell_type": "code",
   "execution_count": 33,
   "metadata": {},
   "outputs": [],
   "source": [
    "# Merge supporting datasets into one\n",
    "ec1_data = pd.concat([demographics, appliances, electricity_gen, fan_roster, household_info, light_roster, room_roster], axis=1)\n",
    "\n",
    "# Ensure 'Month' column exists in both DataFrames\n",
    "if 'Month' not in smart_meter_data.columns:\n",
    "\tsmart_meter_data['Month'] = np.nan  # or any default value\n",
    "\n",
    "if 'Month' not in non_smart_meter_data.columns:\n",
    "\tnon_smart_meter_data['Month'] = np.nan  # or any default value\n",
    "\n",
    "# Combine Smart and Non-Smart Meter Data\n",
    "combined_data = pd.merge(smart_meter_data, non_smart_meter_data, on=['household_ID', 'Month'], how='outer')"
   ]
  },
  {
   "cell_type": "code",
   "execution_count": 35,
   "metadata": {},
   "outputs": [],
   "source": [
    "# Convert relevant columns to numeric types\n",
    "combined_data['TR1_TOTAL_IMPORT (kWh)'] = pd.to_numeric(combined_data['TR1_TOTAL_IMPORT (kWh)'], errors='coerce')\n",
    "combined_data['TR2_TOTAL_IMPORT (kWh)'] = pd.to_numeric(combined_data['TR2_TOTAL_IMPORT (kWh)'], errors='coerce')\n",
    "combined_data['TR3_TOTAL_IMPORT (kWh)'] = pd.to_numeric(combined_data['TR3_TOTAL_IMPORT (kWh)'], errors='coerce')\n",
    "combined_data['TOTAL_IMPORT (kWh)'] = pd.to_numeric(combined_data['TOTAL_IMPORT (kWh)'], errors='coerce')\n",
    "combined_data['TOTAL_EXPORT (kWh)'] = pd.to_numeric(combined_data['TOTAL_EXPORT (kWh)'], errors='coerce')\n",
    "\n",
    "# Derive new metrics\n",
    "combined_data['day_peak_ratio'] = combined_data['TR1_TOTAL_IMPORT (kWh)'] / combined_data['TR2_TOTAL_IMPORT (kWh)']\n",
    "combined_data['off_peak_efficiency'] = combined_data['TR3_TOTAL_IMPORT (kWh)'] / combined_data['TOTAL_IMPORT (kWh)']\n",
    "combined_data['generation_consumption_ratio'] = combined_data['TOTAL_EXPORT (kWh)'] / combined_data['TOTAL_IMPORT (kWh)']\n",
    "\n",
    "# Handle missing or infinite values resulting from derived metrics\n",
    "combined_data.replace([np.inf, -np.inf], np.nan, inplace=True)\n",
    "combined_data.dropna(subset=['day_peak_ratio', 'off_peak_efficiency', 'generation_consumption_ratio'], inplace=True)"
   ]
  },
  {
   "cell_type": "code",
   "execution_count": 36,
   "metadata": {},
   "outputs": [],
   "source": [
    "# Normalize data for clustering\n",
    "features = ['day_peak_ratio', 'off_peak_efficiency', 'generation_consumption_ratio']\n",
    "scaler = StandardScaler()\n",
    "combined_data_scaled = scaler.fit_transform(combined_data[features])"
   ]
  },
  {
   "cell_type": "code",
   "execution_count": 37,
   "metadata": {},
   "outputs": [],
   "source": [
    "\n",
    "\n",
    "# Apply KMeans Clustering\n",
    "kmeans = KMeans(n_clusters=3, random_state=42)\n",
    "combined_data['cluster'] = kmeans.fit_predict(combined_data_scaled)\n",
    "\n",
    "# Determine efficiency boundaries\n",
    "cluster_centers = scaler.inverse_transform(kmeans.cluster_centers_)\n",
    "combined_data['efficiency_status'] = combined_data['cluster'].apply(lambda x: 'efficient' if x == np.argmax(cluster_centers[:, 1]) else 'inefficient')\n"
   ]
  },
  {
   "cell_type": "code",
   "execution_count": 39,
   "metadata": {},
   "outputs": [
    {
     "data": {
      "image/png": "[encoded data removed]",
      "text/plain": [
       "<Figure size 800x600 with 1 Axes>"
      ]
     },
     "metadata": {},
     "output_type": "display_data"
    }
   ],
   "source": [
    "# Visualize Clustering\n",
    "plt.figure(figsize=(8, 6))\n",
    "for cluster in range(3):\n",
    "    subset = combined_data[combined_data['cluster'] == cluster]\n",
    "    plt.scatter(subset['day_peak_ratio'], subset['off_peak_efficiency'], label=f'Cluster {cluster}')\n",
    "plt.xlabel('Day/Peak Ratio')\n",
    "plt.ylabel('Off-Peak Efficiency')\n",
    "plt.title('Clustering of Energy Consumption')\n",
    "plt.legend()\n",
    "plt.show()"
   ]
  },
  {
   "cell_type": "code",
   "execution_count": null,
   "metadata": {},
   "outputs": [],
   "source": [
    "# Evaluate clustering\n",
    "sil_score = silhouette_score(combined_data_scaled, combined_data['cluster'])\n",
    "print(f\"Silhouette Score: {sil_score}\")\n",
    "\n",
    "# Identify inefficient households\n",
    "inefficient_households = combined_data[combined_data['efficiency_status'] == 'inefficient']\n",
    "print(f\"Number of Inefficient Households: {inefficient_households.shape[0]}\")\n",
    "print(inefficient_households[['household_ID', 'efficiency_status']])"
   ]
  }
 ],
 "metadata": {
  "kernelspec": {
   "display_name": "Python 3",
   "language": "python",
   "name": "python3"
  },
  "language_info": {
   "name": "python",
   "version": "3.11.8"
  }
 },
 "nbformat": 4,
 "nbformat_minor": 2
}
